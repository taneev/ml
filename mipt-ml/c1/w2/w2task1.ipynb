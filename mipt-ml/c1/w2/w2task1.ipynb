{
 "cells": [
  {
   "cell_type": "code",
   "execution_count": 5,
   "metadata": {
    "collapsed": false
   },
   "outputs": [],
   "source": [
    "f = open(\"sentences.txt\")\n",
    "s = f.readlines()\n",
    "f.close()"
   ]
  },
  {
   "cell_type": "code",
   "execution_count": 6,
   "metadata": {
    "collapsed": false
   },
   "outputs": [
    {
     "data": {
      "text/plain": [
       "['In comparison to dogs, cats have not undergone major changes during the domestication process.\\n',\n",
       " 'As cat simply catenates streams of bytes, it can be also used to concatenate binary files, where it will just concatenate sequence of bytes.\\n',\n",
       " 'A common interactive use of cat for a single file is to output the content of a file to standard output.\\n',\n",
       " 'Cats can hear sounds too faint or too high in frequency for human ears, such as those made by mice and other small animals.\\n',\n",
       " 'In one, people deliberately tamed cats in a process of artificial selection, as they were useful predators of vermin.\\n',\n",
       " 'The domesticated cat and its closest wild ancestor are both diploid organisms that possess 38 chromosomes and roughly 20,000 genes.\\n',\n",
       " 'Domestic cats are similar in size to the other members of the genus Felis, typically weighing between 4 and 5 kg (8.8 and 11.0 lb).\\n',\n",
       " 'However, if the output is piped or redirected, cat is unnecessary.\\n',\n",
       " 'cat with one named file is safer where human error is a concern - one wrong use of the default redirection symbol \">\" instead of \"<\" (often adjacent on keyboards) may permanently delete the file you were just needing to read.\\n',\n",
       " 'In terms of legibility, a sequence of commands starting with cat and connected by pipes has a clear left-to-right flow of information.\\n',\n",
       " 'Cat command is one of the basic commands that you learned when you started in the Unix / Linux world.\\n',\n",
       " 'Using cat command, the lines received from stdin can be redirected to a new file using redirection symbols.\\n',\n",
       " 'When you type simply cat command without any arguments, it just receives the stdin content and displays it in the stdout.\\n',\n",
       " 'Leopard was released on October 26, 2007 as the successor of Tiger (version 10.4), and is available in two editions.\\n',\n",
       " 'According to Apple, Leopard contains over 300 changes and enhancements over its predecessor, Mac OS X Tiger.\\n',\n",
       " 'As of Mid 2010, some Apple computers have firmware factory installed which will no longer allow installation of Mac OS X Leopard.\\n',\n",
       " 'Since Apple moved to using Intel processors in their computers, the OSx86 community has developed and now also allows Mac OS X Tiger and later releases to be installed on non-Apple x86-based computers.\\n',\n",
       " \"OS X Mountain Lion was released on July 25, 2012 for purchase and download through Apple's Mac App Store, as part of a switch to releasing OS X versions online and every year.\\n\",\n",
       " 'Apple has released a small patch for the three most recent versions of Safari running on OS X Yosemite, Mavericks, and Mountain Lion.\\n',\n",
       " 'The Mountain Lion release marks the second time Apple has offered an incremental upgrade, rather than releasing a new cat entirely.\\n',\n",
       " \"Mac OS X Mountain Lion installs in place, so you won't need to create a separate disk or run the installation off an external drive.\\n\",\n",
       " \"The fifth major update to Mac OS X, Leopard, contains such a mountain of features - more than 300 by Apple's count.\\n\"]"
      ]
     },
     "execution_count": 6,
     "metadata": {},
     "output_type": "execute_result"
    }
   ],
   "source": [
    "s"
   ]
  },
  {
   "cell_type": "code",
   "execution_count": 8,
   "metadata": {
    "collapsed": false
   },
   "outputs": [
    {
     "data": {
      "text/plain": [
       "list"
      ]
     },
     "execution_count": 8,
     "metadata": {},
     "output_type": "execute_result"
    }
   ],
   "source": [
    "type(s)"
   ]
  },
  {
   "cell_type": "code",
   "execution_count": 9,
   "metadata": {
    "collapsed": false
   },
   "outputs": [
    {
     "data": {
      "text/plain": [
       "str"
      ]
     },
     "execution_count": 9,
     "metadata": {},
     "output_type": "execute_result"
    }
   ],
   "source": [
    "type(s[1])"
   ]
  },
  {
   "cell_type": "code",
   "execution_count": 11,
   "metadata": {
    "collapsed": true
   },
   "outputs": [],
   "source": [
    "s = [str.lower() for str in s]"
   ]
  },
  {
   "cell_type": "code",
   "execution_count": 18,
   "metadata": {
    "collapsed": false
   },
   "outputs": [
    {
     "data": {
      "text/plain": [
       "['in comparison to dogs, cats have not undergone major changes during the domestication process.\\n',\n",
       " 'as cat simply catenates streams of bytes, it can be also used to concatenate binary files, where it will just concatenate sequence of bytes.\\n',\n",
       " 'a common interactive use of cat for a single file is to output the content of a file to standard output.\\n',\n",
       " 'cats can hear sounds too faint or too high in frequency for human ears, such as those made by mice and other small animals.\\n',\n",
       " 'in one, people deliberately tamed cats in a process of artificial selection, as they were useful predators of vermin.\\n',\n",
       " 'the domesticated cat and its closest wild ancestor are both diploid organisms that possess 38 chromosomes and roughly 20,000 genes.\\n',\n",
       " 'domestic cats are similar in size to the other members of the genus felis, typically weighing between 4 and 5 kg (8.8 and 11.0 lb).\\n',\n",
       " 'however, if the output is piped or redirected, cat is unnecessary.\\n',\n",
       " 'cat with one named file is safer where human error is a concern - one wrong use of the default redirection symbol \">\" instead of \"<\" (often adjacent on keyboards) may permanently delete the file you were just needing to read.\\n',\n",
       " 'in terms of legibility, a sequence of commands starting with cat and connected by pipes has a clear left-to-right flow of information.\\n',\n",
       " 'cat command is one of the basic commands that you learned when you started in the unix / linux world.\\n',\n",
       " 'using cat command, the lines received from stdin can be redirected to a new file using redirection symbols.\\n',\n",
       " 'when you type simply cat command without any arguments, it just receives the stdin content and displays it in the stdout.\\n',\n",
       " 'leopard was released on october 26, 2007 as the successor of tiger (version 10.4), and is available in two editions.\\n',\n",
       " 'according to apple, leopard contains over 300 changes and enhancements over its predecessor, mac os x tiger.\\n',\n",
       " 'as of mid 2010, some apple computers have firmware factory installed which will no longer allow installation of mac os x leopard.\\n',\n",
       " 'since apple moved to using intel processors in their computers, the osx86 community has developed and now also allows mac os x tiger and later releases to be installed on non-apple x86-based computers.\\n',\n",
       " \"os x mountain lion was released on july 25, 2012 for purchase and download through apple's mac app store, as part of a switch to releasing os x versions online and every year.\\n\",\n",
       " 'apple has released a small patch for the three most recent versions of safari running on os x yosemite, mavericks, and mountain lion.\\n',\n",
       " 'the mountain lion release marks the second time apple has offered an incremental upgrade, rather than releasing a new cat entirely.\\n',\n",
       " \"mac os x mountain lion installs in place, so you won't need to create a separate disk or run the installation off an external drive.\\n\",\n",
       " \"the fifth major update to mac os x, leopard, contains such a mountain of features - more than 300 by apple's count.\\n\"]"
      ]
     },
     "execution_count": 18,
     "metadata": {},
     "output_type": "execute_result"
    }
   ],
   "source": [
    "s"
   ]
  },
  {
   "cell_type": "raw",
   "metadata": {},
   "source": [
    "?re"
   ]
  },
  {
   "cell_type": "code",
   "execution_count": 40,
   "metadata": {
    "collapsed": false
   },
   "outputs": [],
   "source": [
    "f = open(\"sentences.txt\")\n",
    "s = [filter(lambda x: x != '', re.split('[^a-z]', str.lower())) for str in f.readlines()]\n",
    "f.close()"
   ]
  },
  {
   "cell_type": "code",
   "execution_count": 48,
   "metadata": {
    "collapsed": false
   },
   "outputs": [
    {
     "data": {
      "text/plain": [
       "{'a': 33,\n",
       " 'according': 167,\n",
       " 'adjacent': 114,\n",
       " 'allow': 185,\n",
       " 'allows': 196,\n",
       " 'also': 24,\n",
       " 'an': 230,\n",
       " 'ancestor': 77,\n",
       " 'and': 58,\n",
       " 'animals': 61,\n",
       " 'any': 152,\n",
       " 'app': 208,\n",
       " 'apple': 168,\n",
       " 'are': 78,\n",
       " 'arguments': 153,\n",
       " 'artificial': 66,\n",
       " 'as': 14,\n",
       " 'available': 164,\n",
       " 'based': 200,\n",
       " 'basic': 136,\n",
       " 'be': 23,\n",
       " 'between': 95,\n",
       " 'binary': 27,\n",
       " 'both': 79,\n",
       " 'by': 56,\n",
       " 'bytes': 20,\n",
       " 'can': 22,\n",
       " 'cat': 15,\n",
       " 'catenates': 17,\n",
       " 'cats': 4,\n",
       " 'changes': 9,\n",
       " 'chromosomes': 84,\n",
       " 'clear': 130,\n",
       " 'closest': 75,\n",
       " 'command': 135,\n",
       " 'commands': 125,\n",
       " 'common': 34,\n",
       " 'community': 193,\n",
       " 'comparison': 1,\n",
       " 'computers': 178,\n",
       " 'concatenate': 26,\n",
       " 'concern': 107,\n",
       " 'connected': 127,\n",
       " 'contains': 169,\n",
       " 'content': 42,\n",
       " 'count': 253,\n",
       " 'create': 242,\n",
       " 'default': 109,\n",
       " 'delete': 119,\n",
       " 'deliberately': 64,\n",
       " 'developed': 194,\n",
       " 'diploid': 80,\n",
       " 'disk': 244,\n",
       " 'displays': 155,\n",
       " 'dogs': 3,\n",
       " 'domestic': 87,\n",
       " 'domesticated': 73,\n",
       " 'domestication': 12,\n",
       " 'download': 205,\n",
       " 'drive': 248,\n",
       " 'during': 10,\n",
       " 'ears': 52,\n",
       " 'editions': 166,\n",
       " 'enhancements': 171,\n",
       " 'entirely': 235,\n",
       " 'error': 106,\n",
       " 'every': 215,\n",
       " 'external': 247,\n",
       " 'factory': 180,\n",
       " 'faint': 47,\n",
       " 'features': 251,\n",
       " 'felis': 92,\n",
       " 'fifth': 249,\n",
       " 'file': 39,\n",
       " 'files': 28,\n",
       " 'firmware': 179,\n",
       " 'flow': 133,\n",
       " 'for': 37,\n",
       " 'frequency': 50,\n",
       " 'from': 146,\n",
       " 'genes': 86,\n",
       " 'genus': 91,\n",
       " 'has': 129,\n",
       " 'have': 5,\n",
       " 'hear': 44,\n",
       " 'high': 49,\n",
       " 'however': 98,\n",
       " 'human': 51,\n",
       " 'if': 99,\n",
       " 'in': 0,\n",
       " 'incremental': 231,\n",
       " 'information': 134,\n",
       " 'installation': 186,\n",
       " 'installed': 181,\n",
       " 'installs': 236,\n",
       " 'instead': 112,\n",
       " 'intel': 189,\n",
       " 'interactive': 35,\n",
       " 'is': 40,\n",
       " 'it': 21,\n",
       " 'its': 74,\n",
       " 'july': 203,\n",
       " 'just': 31,\n",
       " 'keyboards': 116,\n",
       " 'kg': 96,\n",
       " 'later': 197,\n",
       " 'lb': 97,\n",
       " 'learned': 137,\n",
       " 'left': 131,\n",
       " 'legibility': 124,\n",
       " 'leopard': 157,\n",
       " 'lines': 144,\n",
       " 'linux': 141,\n",
       " 'lion': 202,\n",
       " 'longer': 184,\n",
       " 'mac': 173,\n",
       " 'made': 55,\n",
       " 'major': 8,\n",
       " 'marks': 226,\n",
       " 'mavericks': 224,\n",
       " 'may': 117,\n",
       " 'members': 90,\n",
       " 'mice': 57,\n",
       " 'mid': 176,\n",
       " 'more': 252,\n",
       " 'most': 219,\n",
       " 'mountain': 201,\n",
       " 'moved': 188,\n",
       " 'named': 104,\n",
       " 'need': 241,\n",
       " 'needing': 121,\n",
       " 'new': 148,\n",
       " 'no': 183,\n",
       " 'non': 199,\n",
       " 'not': 6,\n",
       " 'now': 195,\n",
       " 'october': 160,\n",
       " 'of': 19,\n",
       " 'off': 246,\n",
       " 'offered': 229,\n",
       " 'often': 113,\n",
       " 'on': 115,\n",
       " 'one': 62,\n",
       " 'online': 214,\n",
       " 'or': 48,\n",
       " 'organisms': 81,\n",
       " 'os': 174,\n",
       " 'osx': 192,\n",
       " 'other': 59,\n",
       " 'output': 41,\n",
       " 'over': 170,\n",
       " 'part': 210,\n",
       " 'patch': 217,\n",
       " 'people': 63,\n",
       " 'permanently': 118,\n",
       " 'piped': 100,\n",
       " 'pipes': 128,\n",
       " 'place': 237,\n",
       " 'possess': 83,\n",
       " 'predators': 71,\n",
       " 'predecessor': 172,\n",
       " 'process': 13,\n",
       " 'processors': 190,\n",
       " 'purchase': 204,\n",
       " 'rather': 233,\n",
       " 'read': 122,\n",
       " 'received': 145,\n",
       " 'receives': 154,\n",
       " 'recent': 220,\n",
       " 'redirected': 101,\n",
       " 'redirection': 110,\n",
       " 'release': 225,\n",
       " 'released': 159,\n",
       " 'releases': 198,\n",
       " 'releasing': 212,\n",
       " 'right': 132,\n",
       " 'roughly': 85,\n",
       " 'run': 245,\n",
       " 'running': 222,\n",
       " 's': 207,\n",
       " 'safari': 221,\n",
       " 'safer': 105,\n",
       " 'second': 227,\n",
       " 'selection': 67,\n",
       " 'separate': 243,\n",
       " 'sequence': 32,\n",
       " 'similar': 88,\n",
       " 'simply': 16,\n",
       " 'since': 187,\n",
       " 'single': 38,\n",
       " 'size': 89,\n",
       " 'small': 60,\n",
       " 'so': 238,\n",
       " 'some': 177,\n",
       " 'sounds': 45,\n",
       " 'standard': 43,\n",
       " 'started': 139,\n",
       " 'starting': 126,\n",
       " 'stdin': 147,\n",
       " 'stdout': 156,\n",
       " 'store': 209,\n",
       " 'streams': 18,\n",
       " 'successor': 161,\n",
       " 'such': 53,\n",
       " 'switch': 211,\n",
       " 'symbol': 111,\n",
       " 'symbols': 149,\n",
       " 't': 240,\n",
       " 'tamed': 65,\n",
       " 'terms': 123,\n",
       " 'than': 234,\n",
       " 'that': 82,\n",
       " 'the': 11,\n",
       " 'their': 191,\n",
       " 'they': 68,\n",
       " 'those': 54,\n",
       " 'three': 218,\n",
       " 'through': 206,\n",
       " 'tiger': 162,\n",
       " 'time': 228,\n",
       " 'to': 2,\n",
       " 'too': 46,\n",
       " 'two': 165,\n",
       " 'type': 150,\n",
       " 'typically': 93,\n",
       " 'undergone': 7,\n",
       " 'unix': 140,\n",
       " 'unnecessary': 102,\n",
       " 'update': 250,\n",
       " 'upgrade': 232,\n",
       " 'use': 36,\n",
       " 'used': 25,\n",
       " 'useful': 70,\n",
       " 'using': 143,\n",
       " 'vermin': 72,\n",
       " 'version': 163,\n",
       " 'versions': 213,\n",
       " 'was': 158,\n",
       " 'weighing': 94,\n",
       " 'were': 69,\n",
       " 'when': 138,\n",
       " 'where': 29,\n",
       " 'which': 182,\n",
       " 'wild': 76,\n",
       " 'will': 30,\n",
       " 'with': 103,\n",
       " 'without': 151,\n",
       " 'won': 239,\n",
       " 'world': 142,\n",
       " 'wrong': 108,\n",
       " 'x': 175,\n",
       " 'year': 216,\n",
       " 'yosemite': 223,\n",
       " 'you': 120}"
      ]
     },
     "execution_count": 48,
     "metadata": {},
     "output_type": "execute_result"
    }
   ],
   "source": [
    "d = dict()\n",
    "idx = 0\n",
    "for sent in s:\n",
    "    for wrd in sent:\n",
    "        if wrd not in d:\n",
    "            d[wrd] = idx\n",
    "            idx = idx + 1\n",
    "d"
   ]
  },
  {
   "cell_type": "code",
   "execution_count": 44,
   "metadata": {
    "collapsed": false
   },
   "outputs": [],
   "source": [
    "import numpy\n",
    "m = numpy.zeros((len(s), len(d)), dtype=numpy.int16)"
   ]
  },
  {
   "cell_type": "code",
   "execution_count": 46,
   "metadata": {
    "collapsed": false
   },
   "outputs": [
    {
     "data": {
      "text/plain": [
       "array([[0, 0, 0, ..., 0, 0, 0],\n",
       "       [0, 0, 0, ..., 0, 0, 0],\n",
       "       [0, 0, 0, ..., 0, 0, 0],\n",
       "       ..., \n",
       "       [0, 0, 0, ..., 0, 0, 0],\n",
       "       [0, 0, 0, ..., 0, 0, 0],\n",
       "       [0, 0, 0, ..., 0, 0, 0]], dtype=int16)"
      ]
     },
     "execution_count": 46,
     "metadata": {},
     "output_type": "execute_result"
    }
   ],
   "source": [
    "m"
   ]
  },
  {
   "cell_type": "code",
   "execution_count": 51,
   "metadata": {
    "collapsed": false
   },
   "outputs": [
    {
     "data": {
      "text/plain": [
       "array([[1, 1, 1, ..., 0, 0, 0],\n",
       "       [0, 0, 1, ..., 0, 0, 0],\n",
       "       [0, 0, 2, ..., 0, 0, 0],\n",
       "       ..., \n",
       "       [0, 0, 0, ..., 0, 0, 0],\n",
       "       [1, 0, 1, ..., 0, 0, 0],\n",
       "       [0, 0, 1, ..., 1, 1, 1]], dtype=int16)"
      ]
     },
     "execution_count": 51,
     "metadata": {},
     "output_type": "execute_result"
    }
   ],
   "source": [
    "i = 0\n",
    "for sent in s:\n",
    "    for (wrd, j) in d.iteritems():\n",
    "        m[i, j] = sent.count(wrd)\n",
    "    i = i + 1\n",
    "m"
   ]
  },
  {
   "cell_type": "code",
   "execution_count": 60,
   "metadata": {
    "collapsed": false
   },
   "outputs": [
    {
     "data": {
      "text/plain": [
       "[0.0,\n",
       " 0.95275444087384664,\n",
       " 0.86447381456421235,\n",
       " 0.89517151632780823,\n",
       " 0.77708871496985887,\n",
       " 0.94023856953328033,\n",
       " 0.7327387580875756,\n",
       " 0.92587506833388988,\n",
       " 0.88427248752843102,\n",
       " 0.90550888174769317,\n",
       " 0.83281653622739416,\n",
       " 0.88047713906656067,\n",
       " 0.83964325485254543,\n",
       " 0.87035925528956715,\n",
       " 0.87401184233025764,\n",
       " 0.94427217874246472,\n",
       " 0.84063618542208085,\n",
       " 0.95664450152379399,\n",
       " 0.94427217874246472,\n",
       " 0.88854435748492944,\n",
       " 0.84275727449171223,\n",
       " 0.82503644694405864]"
      ]
     },
     "execution_count": 60,
     "metadata": {},
     "output_type": "execute_result"
    }
   ],
   "source": [
    "from scipy.spatial.distance import cosine\n",
    "dcos = [0.0]*len(s)\n",
    "i = 0\n",
    "for sent in s:\n",
    "    dcos[i] = cosine(m[0, :], m[i, :])\n",
    "    i = i + 1\n",
    "dcos"
   ]
  },
  {
   "cell_type": "code",
   "execution_count": 61,
   "metadata": {
    "collapsed": false
   },
   "outputs": [
    {
     "data": {
      "text/plain": [
       "6"
      ]
     },
     "execution_count": 61,
     "metadata": {},
     "output_type": "execute_result"
    }
   ],
   "source": [
    "dcos.index(min(filter(lambda x: x!= min(dcos), dcos)))"
   ]
  },
  {
   "cell_type": "code",
   "execution_count": 62,
   "metadata": {
    "collapsed": false
   },
   "outputs": [
    {
     "data": {
      "text/plain": [
       "[0.0,\n",
       " 0.95275444087384664,\n",
       " 0.86447381456421235,\n",
       " 0.89517151632780823,\n",
       " 0.77708871496985887,\n",
       " 0.94023856953328033,\n",
       " 1,\n",
       " 0.92587506833388988,\n",
       " 0.88427248752843102,\n",
       " 0.90550888174769317,\n",
       " 0.83281653622739416,\n",
       " 0.88047713906656067,\n",
       " 0.83964325485254543,\n",
       " 0.87035925528956715,\n",
       " 0.87401184233025764,\n",
       " 0.94427217874246472,\n",
       " 0.84063618542208085,\n",
       " 0.95664450152379399,\n",
       " 0.94427217874246472,\n",
       " 0.88854435748492944,\n",
       " 0.84275727449171223,\n",
       " 0.82503644694405864]"
      ]
     },
     "execution_count": 62,
     "metadata": {},
     "output_type": "execute_result"
    }
   ],
   "source": [
    "dcos1 = dcos\n",
    "dcos1[6] = 1\n",
    "dcos1\n"
   ]
  },
  {
   "cell_type": "code",
   "execution_count": 63,
   "metadata": {
    "collapsed": false
   },
   "outputs": [
    {
     "data": {
      "text/plain": [
       "4"
      ]
     },
     "execution_count": 63,
     "metadata": {},
     "output_type": "execute_result"
    }
   ],
   "source": [
    "dcos.index(min(filter(lambda x: x!= min(dcos), dcos)))"
   ]
  },
  {
   "cell_type": "code",
   "execution_count": null,
   "metadata": {
    "collapsed": true
   },
   "outputs": [],
   "source": []
  }
 ],
 "metadata": {
  "kernelspec": {
   "display_name": "Python 2",
   "language": "python",
   "name": "python2"
  },
  "language_info": {
   "codemirror_mode": {
    "name": "ipython",
    "version": 2
   },
   "file_extension": ".py",
   "mimetype": "text/x-python",
   "name": "python",
   "nbconvert_exporter": "python",
   "pygments_lexer": "ipython2",
   "version": "2.7.13"
  }
 },
 "nbformat": 4,
 "nbformat_minor": 2
}
