{
 "cells": [
  {
   "cell_type": "markdown",
   "metadata": {},
   "source": [
    "# Сравнение 1NN и RandomForest на примере датасета digits\n",
    "## Реализация 1NN"
   ]
  },
  {
   "cell_type": "code",
   "execution_count": 1,
   "metadata": {
    "collapsed": false
   },
   "outputs": [],
   "source": [
    "from sklearn.datasets import load_digits\n",
    "\n",
    "X, y = load_digits(return_X_y = True)"
   ]
  },
  {
   "cell_type": "code",
   "execution_count": 2,
   "metadata": {
    "collapsed": false
   },
   "outputs": [],
   "source": [
    "from sklearn.model_selection import train_test_split\n",
    "\n",
    "# формируем фиксированное разбиение на обучающую выборку и тест в соотношении 3:1\n",
    "train_size = int(round(len(y)*0.75))\n",
    "\n",
    "X_train = X[:train_size, :]\n",
    "y_train = y[:train_size]\n",
    "X_test  = X[train_size:, :]\n",
    "y_test  = y[train_size:]"
   ]
  },
  {
   "cell_type": "code",
   "execution_count": 3,
   "metadata": {
    "collapsed": false
   },
   "outputs": [],
   "source": [
    "# test_distances - список расстояний i-го элемента тестовой выборки до каждого из классов\n",
    "# минимальные расстояния каждого элемента до каждого из классов представлены словарем {класс: мин.расстояние}\n",
    "test_distances = list()\n",
    "\n",
    "# перебираем все элементы тестовой выборки\n",
    "for i, test_el in enumerate(X_test):\n",
    "    # добавляем элемент - словарь минимальных расстояний до каждого из классов\n",
    "    test_distances.append(dict())\n",
    "    # перебираем все элементы обучающей выборки, считаем расстояние от test_el до каждого из них\n",
    "    for train_el, train_cl in zip(X_train, y_train):\n",
    "        dst = 0\n",
    "        #посчитаем расстояние от элемента test_el до train_el\n",
    "        for test_el_i, train_el_i in zip(test_el, train_el):\n",
    "            dst += (test_el_i - train_el_i)**2 # корень не извлекаем для экономии времени\n",
    "        \n",
    "        # если расстояние от test_el до train_el меньше, чем уже рассмотренные \n",
    "        # расстояния до элементов того же класса - добавляем расстояние и класс в словарь\n",
    "        if train_cl not in test_distances[i] or test_distances[i][train_cl] > dst:\n",
    "            test_distances[i][train_cl] = dst"
   ]
  },
  {
   "cell_type": "code",
   "execution_count": 4,
   "metadata": {
    "collapsed": false
   },
   "outputs": [],
   "source": [
    "# предсказываем класс на тестовой выборке: y_test_predict - предсказанные классы\n",
    "y_test_predict = []\n",
    "# перебираем все списки расстояний test_distances\n",
    "for i in range(len(test_distances)):\n",
    "    # для каждого элемента находим класс, расстояние до которого меньше, чем до всех остальных классов\n",
    "    min_class, min_distance = test_distances[i].items()[0]\n",
    "    for k, v in test_distances[i].items():\n",
    "        if v < min_distance:\n",
    "            min_class, min_distance = k, v\n",
    "    # ближайший класс добавляем в предсказание\n",
    "    y_test_predict.append(min_class)\n"
   ]
  },
  {
   "cell_type": "code",
   "execution_count": 5,
   "metadata": {
    "collapsed": false
   },
   "outputs": [
    {
     "name": "stdout",
     "output_type": "stream",
     "text": [
      "Доля ошибок: 0.0378619153675\n"
     ]
    }
   ],
   "source": [
    "# считаем долю ошибок\n",
    "cnt = 0\n",
    "for i in range(len(y_test_predict)):\n",
    "    if y_test_predict[i] != y_test[i]:\n",
    "        cnt += 1\n",
    "\n",
    "print u\"Доля ошибок:\", cnt/float(len(y_test))"
   ]
  },
  {
   "cell_type": "markdown",
   "metadata": {},
   "source": [
    "Посмотрим, как на том же датасете отработает случайный лес"
   ]
  },
  {
   "cell_type": "code",
   "execution_count": 6,
   "metadata": {
    "collapsed": false
   },
   "outputs": [
    {
     "name": "stderr",
     "output_type": "stream",
     "text": [
      "[Parallel(n_jobs=-1)]: Done  42 tasks      | elapsed:    0.1s\n",
      "[Parallel(n_jobs=-1)]: Done 192 tasks      | elapsed:    0.4s\n",
      "[Parallel(n_jobs=-1)]: Done 442 tasks      | elapsed:    0.8s\n",
      "[Parallel(n_jobs=-1)]: Done 792 tasks      | elapsed:    1.3s\n",
      "[Parallel(n_jobs=-1)]: Done 1000 out of 1000 | elapsed:    1.7s finished\n",
      "[Parallel(n_jobs=4)]: Done  42 tasks      | elapsed:    0.0s\n",
      "[Parallel(n_jobs=4)]: Done 192 tasks      | elapsed:    0.2s\n",
      "[Parallel(n_jobs=4)]: Done 442 tasks      | elapsed:    0.4s\n",
      "[Parallel(n_jobs=4)]: Done 792 tasks      | elapsed:    0.7s\n",
      "[Parallel(n_jobs=4)]: Done 1000 out of 1000 | elapsed:    0.9s finished\n"
     ]
    }
   ],
   "source": [
    "from sklearn.ensemble import RandomForestClassifier\n",
    "\n",
    "rf = RandomForestClassifier(n_estimators = 1000, n_jobs = -1, verbose=1)\n",
    "rf.fit(X_train, y_train)\n",
    "y_test_predict_rf = rf.predict(X_test)"
   ]
  },
  {
   "cell_type": "code",
   "execution_count": 7,
   "metadata": {
    "collapsed": false
   },
   "outputs": [
    {
     "name": "stdout",
     "output_type": "stream",
     "text": [
      "Доля ошибок в лесу:"
     ]
    },
    {
     "name": "stderr",
     "output_type": "stream",
     "text": [
      "[Parallel(n_jobs=4)]: Done  42 tasks      | elapsed:    0.0s\n",
      "[Parallel(n_jobs=4)]: Done 192 tasks      | elapsed:    0.4s\n",
      "[Parallel(n_jobs=4)]: Done 442 tasks      | elapsed:    0.8s\n",
      "[Parallel(n_jobs=4)]: Done 792 tasks      | elapsed:    1.3s\n"
     ]
    },
    {
     "name": "stdout",
     "output_type": "stream",
     "text": [
      " 0.0668151447661\n"
     ]
    },
    {
     "name": "stderr",
     "output_type": "stream",
     "text": [
      "[Parallel(n_jobs=4)]: Done 1000 out of 1000 | elapsed:    1.6s finished\n"
     ]
    }
   ],
   "source": [
    "print u'Доля ошибок в лесу:', 1-rf.score(X_test, y_test)"
   ]
  },
  {
   "cell_type": "markdown",
   "metadata": {},
   "source": [
    "Видим, что простейший метод 1NN на данном датасете работает лучше, чем случайный лес на 1000 деревьев.\n",
    "Вывод: не стоит пренебрегать простейшими методами"
   ]
  }
 ],
 "metadata": {
  "kernelspec": {
   "display_name": "Python 2",
   "language": "python",
   "name": "python2"
  },
  "language_info": {
   "codemirror_mode": {
    "name": "ipython",
    "version": 2
   },
   "file_extension": ".py",
   "mimetype": "text/x-python",
   "name": "python",
   "nbconvert_exporter": "python",
   "pygments_lexer": "ipython2",
   "version": "2.7.13"
  }
 },
 "nbformat": 4,
 "nbformat_minor": 2
}
